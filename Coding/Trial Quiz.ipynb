{
 "cells": [
  {
   "cell_type": "markdown",
   "id": "f3963300",
   "metadata": {},
   "source": [
    " 1-Create an array of 10 fives"
   ]
  },
  {
   "cell_type": "code",
   "execution_count": 119,
   "id": "835ebe6c",
   "metadata": {
    "scrolled": true
   },
   "outputs": [
    {
     "name": "stdout",
     "output_type": "stream",
     "text": [
      "[5 5 5 5 5 5 5 5 5 5]\n"
     ]
    },
    {
     "data": {
      "text/plain": [
       "array([5., 5., 5., 5., 5., 5., 5., 5., 5., 5.])"
      ]
     },
     "execution_count": 119,
     "metadata": {},
     "output_type": "execute_result"
    }
   ],
   "source": [
    "#Question 1 \n",
    "import numpy as np\n",
    "arr = np.array([5,5,5,5,5,5,5,5,5,5])\n",
    "print(arr)\n",
    "np.ones(10)*5"
   ]
  },
  {
   "cell_type": "markdown",
   "id": "31ebaef3",
   "metadata": {},
   "source": [
    "2-Create an array of all the even integers from 10 to 50"
   ]
  },
  {
   "cell_type": "code",
   "execution_count": 85,
   "id": "dc28c88a",
   "metadata": {},
   "outputs": [
    {
     "name": "stdout",
     "output_type": "stream",
     "text": [
      "[10 12 14 16 18 20 22 24 26 28 30 32 34 36 38 40 42 44 46 48 50]\n"
     ]
    }
   ],
   "source": [
    "import numpy as np\n",
    "\n",
    "y = np.arange(10, 51, 2)\n",
    "print(y)\n"
   ]
  },
  {
   "cell_type": "code",
   "execution_count": 7,
   "id": "9e984367",
   "metadata": {},
   "outputs": [
    {
     "name": "stdout",
     "output_type": "stream",
     "text": [
      "[10]\n"
     ]
    }
   ],
   "source": [
    "import numpy as np\n",
    "arr=np.array([10:])\n",
    "print(arr)"
   ]
  },
  {
   "cell_type": "markdown",
   "id": "b88ed68d",
   "metadata": {},
   "source": [
    "3-Create a 3x3 matrix with values ranging from 0 to 8"
   ]
  },
  {
   "cell_type": "code",
   "execution_count": 91,
   "id": "7479ea7c",
   "metadata": {},
   "outputs": [
    {
     "name": "stdout",
     "output_type": "stream",
     "text": [
      "[[0 1 2]\n",
      " [3 4 5]\n",
      " [6 7 8]]\n"
     ]
    }
   ],
   "source": [
    "arr = np.arange(0, 9).reshape(3, 3)\n",
    "print(arr)"
   ]
  },
  {
   "cell_type": "markdown",
   "id": "a52f6669",
   "metadata": {},
   "source": [
    "4-Create the following matrix:\n",
    "\n",
    "array([[0.01, 0.02, 0.03, 0.04, 0.05, 0.06, 0.07, 0.08, 0.09, 0.1 ],\n",
    "       [0.11, 0.12, 0.13, 0.14, 0.15, 0.16, 0.17, 0.18, 0.19, 0.2 ],\n",
    "       [0.21, 0.22, 0.23, 0.24, 0.25, 0.26, 0.27, 0.28, 0.29, 0.3 ],\n",
    "       [0.31, 0.32, 0.33, 0.34, 0.35, 0.36, 0.37, 0.38, 0.39, 0.4 ],\n",
    "       [0.41, 0.42, 0.43, 0.44, 0.45, 0.46, 0.47, 0.48, 0.49, 0.5 ],\n",
    "       [0.51, 0.52, 0.53, 0.54, 0.55, 0.56, 0.57, 0.58, 0.59, 0.6 ],\n",
    "       [0.61, 0.62, 0.63, 0.64, 0.65, 0.66, 0.67, 0.68, 0.69, 0.7 ],\n",
    "       [0.71, 0.72, 0.73, 0.74, 0.75, 0.76, 0.77, 0.78, 0.79, 0.8 ],\n",
    "       [0.81, 0.82, 0.83, 0.84, 0.85, 0.86, 0.87, 0.88, 0.89, 0.9 ],\n",
    "       [0.91, 0.92, 0.93, 0.94, 0.95, 0.96, 0.97, 0.98, 0.99, 1.  ]])"
   ]
  },
  {
   "cell_type": "code",
   "execution_count": 81,
   "id": "02732141",
   "metadata": {},
   "outputs": [
    {
     "name": "stdout",
     "output_type": "stream",
     "text": [
      "[[0.01 0.02 0.03 0.04 0.05 0.06 0.07 0.08 0.09 0.1 ]\n",
      " [0.11 0.12 0.13 0.14 0.15 0.16 0.17 0.18 0.19 0.2 ]\n",
      " [0.21 0.22 0.23 0.24 0.25 0.26 0.27 0.28 0.29 0.3 ]\n",
      " [0.31 0.32 0.33 0.34 0.35 0.36 0.37 0.38 0.39 0.4 ]\n",
      " [0.41 0.42 0.43 0.44 0.45 0.46 0.47 0.48 0.49 0.5 ]\n",
      " [0.51 0.52 0.53 0.54 0.55 0.56 0.57 0.58 0.59 0.6 ]\n",
      " [0.61 0.62 0.63 0.64 0.65 0.66 0.67 0.68 0.69 0.7 ]\n",
      " [0.71 0.72 0.73 0.74 0.75 0.76 0.77 0.78 0.79 0.8 ]\n",
      " [0.81 0.82 0.83 0.84 0.85 0.86 0.87 0.88 0.89 0.9 ]\n",
      " [0.91 0.92 0.93 0.94 0.95 0.96 0.97 0.98 0.99 1.  ]]\n"
     ]
    }
   ],
   "source": [
    "import numpy as np\n",
    "\n",
    "arr = np.arange(0.01, 1.01, 0.01).reshape(10, 10)\n",
    "print(arr)"
   ]
  },
  {
   "cell_type": "markdown",
   "id": "877b4c4b",
   "metadata": {},
   "source": [
    "5-So Provided that we have a set of data. How can we find the median? (implement median function)\n",
    "x = [6, 3, 8, 1, 7, 9, 3] , x = [6, 3, 2, 8, 9, 1, 5, 4]"
   ]
  },
  {
   "cell_type": "code",
   "execution_count": null,
   "id": "999941c2",
   "metadata": {},
   "outputs": [],
   "source": [
    "def median():\n",
    "    \n",
    "        \n",
    "    \n",
    "    "
   ]
  },
  {
   "cell_type": "markdown",
   "id": "a9157bf2",
   "metadata": {},
   "source": [
    "6-What is AI?"
   ]
  },
  {
   "cell_type": "code",
   "execution_count": null,
   "id": "2b8206e3",
   "metadata": {},
   "outputs": [],
   "source": [
    "#AI is artifitial intelligence where the machine learns from testing and training over several data in order to make decisions that are almost accurate"
   ]
  },
  {
   "cell_type": "markdown",
   "id": "49acdce7",
   "metadata": {},
   "source": [
    "7-Why AI is used ?"
   ]
  },
  {
   "cell_type": "code",
   "execution_count": null,
   "id": "ddcd2d38",
   "metadata": {},
   "outputs": [],
   "source": [
    "#AI is used in order to fascilitate the common daily tasks that ensures higher accuracy than human being "
   ]
  },
  {
   "cell_type": "markdown",
   "id": "37e78b72",
   "metadata": {},
   "source": [
    "8-When to use AI ?"
   ]
  },
  {
   "cell_type": "code",
   "execution_count": null,
   "id": "904c6e14",
   "metadata": {},
   "outputs": [],
   "source": [
    "#AI is used when the tasks are harder for humans to make decsions and also when there is enough data to train the model in order to maek it take enough decsions."
   ]
  },
  {
   "cell_type": "markdown",
   "id": "1cdb5994",
   "metadata": {},
   "source": [
    "9-What is  AI pipeline?"
   ]
  },
  {
   "cell_type": "markdown",
   "id": "1515a112",
   "metadata": {},
   "source": [
    "10-AI is ....% Data Operations , and ..... Model Creation "
   ]
  },
  {
   "cell_type": "code",
   "execution_count": null,
   "id": "40441339",
   "metadata": {},
   "outputs": [],
   "source": [
    "# 80        20"
   ]
  },
  {
   "cell_type": "markdown",
   "id": "34f91e24",
   "metadata": {},
   "source": [
    "11-how to convert data that not normal distribution to normal distribution?"
   ]
  },
  {
   "cell_type": "code",
   "execution_count": null,
   "id": "d1904085",
   "metadata": {},
   "outputs": [],
   "source": [
    "#by using different types of transformation according to which data type is needed to be converted"
   ]
  },
  {
   "cell_type": "markdown",
   "id": "cca74e1e",
   "metadata": {},
   "source": [
    "11-What is Feature Engineering? "
   ]
  },
  {
   "cell_type": "markdown",
   "id": "fa78aa84",
   "metadata": {},
   "source": [
    "12-How to avoid bad Sampling"
   ]
  },
  {
   "cell_type": "code",
   "execution_count": null,
   "id": "0f2e0d3d",
   "metadata": {},
   "outputs": [],
   "source": [
    "#by not being biased and taking samples from different regions and try to exclude outliers"
   ]
  },
  {
   "cell_type": "markdown",
   "id": "74237b97",
   "metadata": {},
   "source": [
    "13-Why do we do Sampling?"
   ]
  },
  {
   "cell_type": "code",
   "execution_count": null,
   "id": "d9469f56",
   "metadata": {},
   "outputs": [],
   "source": [
    "# As it is harder to work on the whole data as it consumes time as well as resources so we take samples that are almost there average so its easier to work on "
   ]
  },
  {
   "cell_type": "markdown",
   "id": "33d6d575",
   "metadata": {},
   "source": [
    "14-What is a programming language?"
   ]
  },
  {
   "cell_type": "code",
   "execution_count": null,
   "id": "97a06a7a",
   "metadata": {},
   "outputs": [],
   "source": [
    "# a programming language is a language that allows the programmer to express their ideas and make them into applications and visual outputs"
   ]
  },
  {
   "cell_type": "markdown",
   "id": "6e612de0",
   "metadata": {},
   "source": [
    "15-Create a random vector of size 30 and find the mean value"
   ]
  },
  {
   "cell_type": "markdown",
   "id": "6502d14b",
   "metadata": {},
   "source": [
    "16-Create a 10x10 array with random values and find the minimum and maximum values"
   ]
  },
  {
   "cell_type": "markdown",
   "id": "a14c2a93",
   "metadata": {},
   "source": [
    "17- Write a NumPy program to create a 2D array with 1 on the border and 0 inside"
   ]
  },
  {
   "cell_type": "code",
   "execution_count": 101,
   "id": "39907690",
   "metadata": {},
   "outputs": [
    {
     "name": "stdout",
     "output_type": "stream",
     "text": [
      "[[1. 1. 1. 1.]\n",
      " [1. 0. 0. 1.]\n",
      " [1. 0. 0. 1.]\n",
      " [1. 1. 1. 1.]]\n"
     ]
    }
   ],
   "source": [
    "x = np.ones((4,4))\n",
    "\n",
    "\n",
    "x[1:3,1:3] = 0\n",
    "print(x)\n"
   ]
  },
  {
   "cell_type": "markdown",
   "id": "6acb9578",
   "metadata": {},
   "source": [
    "18-Create a 8x8 matrix and fill it with a checkerboard pattern"
   ]
  },
  {
   "cell_type": "code",
   "execution_count": 92,
   "id": "55ab1ee6",
   "metadata": {},
   "outputs": [
    {
     "data": {
      "text/plain": [
       "array([[0, 1, 0, 1, 0, 1, 0, 1],\n",
       "       [1, 0, 1, 0, 1, 0, 1, 0],\n",
       "       [0, 1, 0, 1, 0, 1, 0, 1],\n",
       "       [1, 0, 1, 0, 1, 0, 1, 0],\n",
       "       [0, 1, 0, 1, 0, 1, 0, 1],\n",
       "       [1, 0, 1, 0, 1, 0, 1, 0],\n",
       "       [0, 1, 0, 1, 0, 1, 0, 1],\n",
       "       [1, 0, 1, 0, 1, 0, 1, 0]])"
      ]
     },
     "execution_count": 92,
     "metadata": {},
     "output_type": "execute_result"
    }
   ],
   "source": [
    "import numpy as np \n",
    "np.tile(np.array([[0,1],[1,0]]),(4,4))"
   ]
  },
  {
   "cell_type": "markdown",
   "id": "6abbeb05",
   "metadata": {},
   "source": [
    "19-generates a 5x5 NumPy array filled with random integers from 1 to 99."
   ]
  },
  {
   "cell_type": "code",
   "execution_count": 97,
   "id": "7b14873a",
   "metadata": {},
   "outputs": [
    {
     "ename": "AttributeError",
     "evalue": "module 'numpy' has no attribute 'rand'",
     "output_type": "error",
     "traceback": [
      "\u001b[1;31m---------------------------------------------------------------------------\u001b[0m",
      "\u001b[1;31mAttributeError\u001b[0m                            Traceback (most recent call last)",
      "Cell \u001b[1;32mIn[97], line 1\u001b[0m\n\u001b[1;32m----> 1\u001b[0m \u001b[43mnp\u001b[49m\u001b[38;5;241;43m.\u001b[39;49m\u001b[43mrand\u001b[49m(\u001b[38;5;241m9\u001b[39m)\n",
      "File \u001b[1;32m~\\anaconda3\\lib\\site-packages\\numpy\\__init__.py:311\u001b[0m, in \u001b[0;36m__getattr__\u001b[1;34m(attr)\u001b[0m\n\u001b[0;32m    308\u001b[0m     \u001b[38;5;28;01mfrom\u001b[39;00m \u001b[38;5;21;01m.\u001b[39;00m\u001b[38;5;21;01mtesting\u001b[39;00m \u001b[38;5;28;01mimport\u001b[39;00m Tester\n\u001b[0;32m    309\u001b[0m     \u001b[38;5;28;01mreturn\u001b[39;00m Tester\n\u001b[1;32m--> 311\u001b[0m \u001b[38;5;28;01mraise\u001b[39;00m \u001b[38;5;167;01mAttributeError\u001b[39;00m(\u001b[38;5;124m\"\u001b[39m\u001b[38;5;124mmodule \u001b[39m\u001b[38;5;132;01m{!r}\u001b[39;00m\u001b[38;5;124m has no attribute \u001b[39m\u001b[38;5;124m\"\u001b[39m\n\u001b[0;32m    312\u001b[0m                      \u001b[38;5;124m\"\u001b[39m\u001b[38;5;132;01m{!r}\u001b[39;00m\u001b[38;5;124m\"\u001b[39m\u001b[38;5;241m.\u001b[39mformat(\u001b[38;5;18m__name__\u001b[39m, attr))\n",
      "\u001b[1;31mAttributeError\u001b[0m: module 'numpy' has no attribute 'rand'"
     ]
    }
   ],
   "source": []
  },
  {
   "cell_type": "markdown",
   "id": "f54c8dde",
   "metadata": {},
   "source": [
    "20-mean,std,mim and max"
   ]
  },
  {
   "cell_type": "markdown",
   "id": "b9dd4021",
   "metadata": {},
   "source": [
    "21-what is Types of Data"
   ]
  },
  {
   "cell_type": "code",
   "execution_count": null,
   "id": "3d4b7c75",
   "metadata": {},
   "outputs": [],
   "source": [
    "# discreate and contiounous the discreate: data has single values as if they are points scattered unlike the contious which is almost infinity along any range   "
   ]
  },
  {
   "cell_type": "markdown",
   "id": "d9aac0d2",
   "metadata": {},
   "source": [
    "22-calc the Z score x=25 ,std=5 ,mean= 20"
   ]
  },
  {
   "cell_type": "markdown",
   "id": "dcc697a6",
   "metadata": {},
   "source": [
    "23-Create a list of theses elements : 1,3,4,16,17,20, \"Ahmed\", \"Mazen\", True"
   ]
  },
  {
   "cell_type": "code",
   "execution_count": 59,
   "id": "30a1f948",
   "metadata": {},
   "outputs": [
    {
     "name": "stdout",
     "output_type": "stream",
     "text": [
      "list[1, 3, 4, 16, 17, 20, 'Ahmed', 'Mazen', True]\n"
     ]
    }
   ],
   "source": [
    "l=list[1,3,4,16,17,20,\"Ahmed\",\"Mazen\",True]\n",
    "print(l)\n"
   ]
  },
  {
   "cell_type": "markdown",
   "id": "67f3c9c6",
   "metadata": {},
   "source": [
    "24-add 7 to the list "
   ]
  },
  {
   "cell_type": "code",
   "execution_count": 18,
   "id": "871a70cd",
   "metadata": {},
   "outputs": [
    {
     "ename": "TypeError",
     "evalue": "'method_descriptor' object is not subscriptable",
     "output_type": "error",
     "traceback": [
      "\u001b[1;31m---------------------------------------------------------------------------\u001b[0m",
      "\u001b[1;31mTypeError\u001b[0m                                 Traceback (most recent call last)",
      "Cell \u001b[1;32mIn[18], line 1\u001b[0m\n\u001b[1;32m----> 1\u001b[0m \u001b[43ml\u001b[49m\u001b[38;5;241;43m.\u001b[39;49m\u001b[43mappend\u001b[49m\u001b[43m[\u001b[49m\u001b[38;5;241;43m7\u001b[39;49m\u001b[43m]\u001b[49m\n",
      "\u001b[1;31mTypeError\u001b[0m: 'method_descriptor' object is not subscriptable"
     ]
    }
   ],
   "source": [
    "l.append(7)"
   ]
  },
  {
   "cell_type": "markdown",
   "id": "afa177ac",
   "metadata": {},
   "source": [
    "25-remove 3 from the list "
   ]
  },
  {
   "cell_type": "code",
   "execution_count": 33,
   "id": "6bb9f21a",
   "metadata": {},
   "outputs": [
    {
     "ename": "TypeError",
     "evalue": "object of type 'types.GenericAlias' has no len()",
     "output_type": "error",
     "traceback": [
      "\u001b[1;31m---------------------------------------------------------------------------\u001b[0m",
      "\u001b[1;31mTypeError\u001b[0m                                 Traceback (most recent call last)",
      "Cell \u001b[1;32mIn[33], line 1\u001b[0m\n\u001b[1;32m----> 1\u001b[0m \u001b[38;5;28;43mlen\u001b[39;49m\u001b[43m(\u001b[49m\u001b[43ml\u001b[49m\u001b[43m)\u001b[49m\n",
      "\u001b[1;31mTypeError\u001b[0m: object of type 'types.GenericAlias' has no len()"
     ]
    }
   ],
   "source": [
    "l.pop(3)"
   ]
  },
  {
   "cell_type": "markdown",
   "id": "8224cd09",
   "metadata": {},
   "source": [
    "26-Count how many numbers 4 has occured"
   ]
  },
  {
   "cell_type": "code",
   "execution_count": 76,
   "id": "cdf6521e",
   "metadata": {},
   "outputs": [
    {
     "ename": "TypeError",
     "evalue": "There are no type variables left in list[1, 3, 4, 16, 17, 20, 'Ahmed', 'Mazen', True]",
     "output_type": "error",
     "traceback": [
      "\u001b[1;31m---------------------------------------------------------------------------\u001b[0m",
      "\u001b[1;31mTypeError\u001b[0m                                 Traceback (most recent call last)",
      "Cell \u001b[1;32mIn[76], line 3\u001b[0m\n\u001b[0;32m      1\u001b[0m \u001b[38;5;28;01mfor\u001b[39;00m i \u001b[38;5;129;01min\u001b[39;00m \u001b[38;5;28mrange\u001b[39m(\u001b[38;5;241m9\u001b[39m):\n\u001b[0;32m      2\u001b[0m     c\u001b[38;5;241m=\u001b[39m\u001b[38;5;241m0\u001b[39m\n\u001b[1;32m----> 3\u001b[0m     \u001b[38;5;28;01mif\u001b[39;00m \u001b[38;5;28mstr\u001b[39m(\u001b[43ml\u001b[49m\u001b[43m[\u001b[49m\u001b[43mi\u001b[49m\u001b[43m]\u001b[49m) \u001b[38;5;241m==\u001b[39m \u001b[38;5;241m4\u001b[39m:\n\u001b[0;32m      4\u001b[0m         c\u001b[38;5;241m+\u001b[39m\u001b[38;5;241m=\u001b[39m\u001b[38;5;241m1\u001b[39m\n\u001b[0;32m      5\u001b[0m \u001b[38;5;28mprint\u001b[39m(c)\n",
      "\u001b[1;31mTypeError\u001b[0m: There are no type variables left in list[1, 3, 4, 16, 17, 20, 'Ahmed', 'Mazen', True]"
     ]
    }
   ],
   "source": [
    "for i in range(9):\n",
    "    c=0\n",
    "    if str(i).isdigit() == 4:\n",
    "        c+=1\n",
    "print(c)"
   ]
  },
  {
   "cell_type": "markdown",
   "id": "fec25e4f",
   "metadata": {},
   "source": [
    "27-print only the even numbers in the list"
   ]
  },
  {
   "cell_type": "code",
   "execution_count": 63,
   "id": "5296c5b1",
   "metadata": {},
   "outputs": [
    {
     "ename": "TypeError",
     "evalue": "object of type 'types.GenericAlias' has no len()",
     "output_type": "error",
     "traceback": [
      "\u001b[1;31m---------------------------------------------------------------------------\u001b[0m",
      "\u001b[1;31mTypeError\u001b[0m                                 Traceback (most recent call last)",
      "Cell \u001b[1;32mIn[63], line 1\u001b[0m\n\u001b[1;32m----> 1\u001b[0m \u001b[38;5;28;01mfor\u001b[39;00m i \u001b[38;5;129;01min\u001b[39;00m \u001b[38;5;28mrange\u001b[39m (\u001b[38;5;28;43mlen\u001b[39;49m\u001b[43m(\u001b[49m\u001b[43ml\u001b[49m\u001b[43m)\u001b[49m):\n\u001b[0;32m      2\u001b[0m     \u001b[38;5;28;01mif\u001b[39;00m l[i]\u001b[38;5;241m%\u001b[39m\u001b[38;5;241m2\u001b[39m\u001b[38;5;241m==\u001b[39m\u001b[38;5;241m0\u001b[39m:\n\u001b[0;32m      3\u001b[0m         \u001b[38;5;28mprint\u001b[39m(l[i])\n",
      "\u001b[1;31mTypeError\u001b[0m: object of type 'types.GenericAlias' has no len()"
     ]
    }
   ],
   "source": [
    "for i in range (len(l)):\n",
    "    if l[i]%2==0:\n",
    "        print(l[i])\n",
    "        "
   ]
  },
  {
   "cell_type": "markdown",
   "id": "6ac9cc55",
   "metadata": {},
   "source": [
    "28-Sum only the numeric elements in the list"
   ]
  },
  {
   "cell_type": "code",
   "execution_count": 65,
   "id": "a8cb04e2",
   "metadata": {},
   "outputs": [
    {
     "ename": "TypeError",
     "evalue": "There are no type variables left in list[1, 3, 4, 16, 17, 20, 'Ahmed', 'Mazen', True]",
     "output_type": "error",
     "traceback": [
      "\u001b[1;31m---------------------------------------------------------------------------\u001b[0m",
      "\u001b[1;31mTypeError\u001b[0m                                 Traceback (most recent call last)",
      "Cell \u001b[1;32mIn[65], line 3\u001b[0m\n\u001b[0;32m      1\u001b[0m s\u001b[38;5;241m=\u001b[39m\u001b[38;5;241m0\u001b[39m\n\u001b[0;32m      2\u001b[0m \u001b[38;5;28;01mfor\u001b[39;00m i \u001b[38;5;129;01min\u001b[39;00m \u001b[38;5;28mrange\u001b[39m (\u001b[38;5;241m9\u001b[39m):\n\u001b[1;32m----> 3\u001b[0m     \u001b[38;5;28;01mif\u001b[39;00m \u001b[43ml\u001b[49m\u001b[43m[\u001b[49m\u001b[43mi\u001b[49m\u001b[43m]\u001b[49m\u001b[38;5;241m.\u001b[39misdigit():\n\u001b[0;32m      4\u001b[0m         s\u001b[38;5;241m=\u001b[39ms\u001b[38;5;241m+\u001b[39ml[i]\n\u001b[0;32m      5\u001b[0m     \u001b[38;5;28mprint\u001b[39m(s)\n",
      "\u001b[1;31mTypeError\u001b[0m: There are no type variables left in list[1, 3, 4, 16, 17, 20, 'Ahmed', 'Mazen', True]"
     ]
    }
   ],
   "source": [
    "s=0\n",
    "for i in range (len(l)):\n",
    "    if l[i].isdigit():\n",
    "        s=s+l[i]\n",
    "    print(s)"
   ]
  },
  {
   "cell_type": "markdown",
   "id": "175870ea",
   "metadata": {},
   "source": [
    "29-When must we use Assembly?"
   ]
  },
  {
   "cell_type": "code",
   "execution_count": null,
   "id": "237eb760",
   "metadata": {},
   "outputs": [],
   "source": [
    "#fast w low space"
   ]
  },
  {
   "cell_type": "markdown",
   "id": "d1b305bd",
   "metadata": {},
   "source": [
    "30-Why Companies can't move from OOP to Functional programming?"
   ]
  },
  {
   "cell_type": "code",
   "execution_count": null,
   "id": "6f2f77f3",
   "metadata": {},
   "outputs": [],
   "source": [
    "#as OOP is more organised and can be easily modified and you cant get lost as every item has its own class which makes debugging easier"
   ]
  },
  {
   "cell_type": "markdown",
   "id": "4cfe683d",
   "metadata": {},
   "source": [
    "31- Agile and waterfall\n"
   ]
  },
  {
   "cell_type": "code",
   "execution_count": null,
   "id": "ef4e58dc",
   "metadata": {},
   "outputs": [],
   "source": []
  },
  {
   "cell_type": "markdown",
   "id": "7d400c5a",
   "metadata": {},
   "source": [
    "32-What is Sample Size ?"
   ]
  },
  {
   "cell_type": "code",
   "execution_count": null,
   "id": "1aa5eab8",
   "metadata": {
    "collapsed": true
   },
   "outputs": [],
   "source": [
    "#size of the sample taken from the population"
   ]
  },
  {
   "cell_type": "markdown",
   "id": "b901c7f3",
   "metadata": {},
   "source": [
    "33-Why do we do Sampling?"
   ]
  },
  {
   "cell_type": "code",
   "execution_count": null,
   "id": "b47e42ea",
   "metadata": {},
   "outputs": [],
   "source": [
    "# As it is harder to work on the whole data as it consumes time as well as resources so we take samples that are almost there average so its easier to work on "
   ]
  },
  {
   "cell_type": "markdown",
   "id": "46045636",
   "metadata": {},
   "source": [
    "34-What are the types of medical image files?"
   ]
  },
  {
   "cell_type": "code",
   "execution_count": null,
   "id": "b75bf72c",
   "metadata": {},
   "outputs": [],
   "source": [
    "#tiff  jpg  PNG  MNC"
   ]
  },
  {
   "cell_type": "markdown",
   "id": "4cf22724",
   "metadata": {},
   "source": [
    "35-what is series?"
   ]
  },
  {
   "cell_type": "code",
   "execution_count": null,
   "id": "e73c0959",
   "metadata": {},
   "outputs": [],
   "source": [
    "#series is when things happens by turn as if it is a chain   one d array"
   ]
  },
  {
   "cell_type": "markdown",
   "id": "a1257b81",
   "metadata": {},
   "source": [
    "36-Create pandas dataframe as input from users\n",
    "\n",
    "name, age, id, gender, email, phone number, city,\n",
    "\n",
    "then\n",
    "\n",
    "a. group by city\n",
    "b. which city has the most students\n",
    "c. get the average of ages for each gender\n",
    "d. plot the relation between number of males to females\n",
    "e. plot the relation between age and gender"
   ]
  },
  {
   "cell_type": "code",
   "execution_count": 71,
   "id": "c8d4d72c",
   "metadata": {},
   "outputs": [
    {
     "name": "stdout",
     "output_type": "stream",
     "text": [
      "Enter nameMahmoud\n",
      "Enter age20\n",
      "Enter ID2\n",
      "Enter genderMale\n",
      "Enter Emailmahmoud2932003@gmail.com\n",
      "Enter phone01096002849\n",
      "Enter cityGiza\n"
     ]
    },
    {
     "data": {
      "text/html": [
       "<div>\n",
       "<style scoped>\n",
       "    .dataframe tbody tr th:only-of-type {\n",
       "        vertical-align: middle;\n",
       "    }\n",
       "\n",
       "    .dataframe tbody tr th {\n",
       "        vertical-align: top;\n",
       "    }\n",
       "\n",
       "    .dataframe thead th {\n",
       "        text-align: right;\n",
       "    }\n",
       "</style>\n",
       "<table border=\"1\" class=\"dataframe\">\n",
       "  <thead>\n",
       "    <tr style=\"text-align: right;\">\n",
       "      <th></th>\n",
       "      <th>name</th>\n",
       "      <th>age</th>\n",
       "      <th>id</th>\n",
       "      <th>gender</th>\n",
       "      <th>email</th>\n",
       "      <th>phone number</th>\n",
       "      <th>city</th>\n",
       "    </tr>\n",
       "  </thead>\n",
       "  <tbody>\n",
       "    <tr>\n",
       "      <th>0</th>\n",
       "      <td>Mahmoud</td>\n",
       "      <td>20</td>\n",
       "      <td>2</td>\n",
       "      <td>Male</td>\n",
       "      <td>mahmoud2932003@gmail.com</td>\n",
       "      <td>01096002849</td>\n",
       "      <td>Giza</td>\n",
       "    </tr>\n",
       "  </tbody>\n",
       "</table>\n",
       "</div>"
      ],
      "text/plain": [
       "      name age id gender                     email phone number  city\n",
       "0  Mahmoud  20  2   Male  mahmoud2932003@gmail.com  01096002849  Giza"
      ]
     },
     "execution_count": 71,
     "metadata": {},
     "output_type": "execute_result"
    }
   ],
   "source": [
    "import pandas as pd\n",
    "\n",
    "data = {\n",
    "    'name': [input('Enter name')],\n",
    "    'age': [input('Enter age')],\n",
    "    'id': [input('Enter ID')],\n",
    "    'gender': [input('Enter gender')],\n",
    "    'email': [input('Enter Email')],\n",
    "    'phone number': [input('Enter phone')],\n",
    "    'city': [input('Enter city')],\n",
    "}\n",
    "df = pd.DataFrame(data)\n",
    "dfz"
   ]
  },
  {
   "cell_type": "code",
   "execution_count": 73,
   "id": "27ba434e",
   "metadata": {},
   "outputs": [
    {
     "name": "stdout",
     "output_type": "stream",
     "text": [
      "<pandas.core.groupby.generic.DataFrameGroupBy object at 0x0000020A7EFB37F0>\n"
     ]
    }
   ],
   "source": [
    "result = df.groupby('city')"
   ]
  },
  {
   "cell_type": "code",
   "execution_count": 74,
   "id": "04567f42",
   "metadata": {},
   "outputs": [
    {
     "name": "stdout",
     "output_type": "stream",
     "text": [
      "city\n",
      "Giza    Mahmoud\n",
      "Name: name, dtype: object\n"
     ]
    }
   ],
   "source": [
    "result = df.groupby('city')['name'].sum()\n",
    "print(result)"
   ]
  },
  {
   "cell_type": "code",
   "execution_count": 78,
   "id": "d823ae1a",
   "metadata": {},
   "outputs": [
    {
     "ename": "SyntaxError",
     "evalue": "invalid syntax (4275048786.py, line 3)",
     "output_type": "error",
     "traceback": [
      "\u001b[1;36m  Cell \u001b[1;32mIn[78], line 3\u001b[1;36m\u001b[0m\n\u001b[1;33m    Follow the instructions to recreate the plots using this data:\u001b[0m\n\u001b[1;37m           ^\u001b[0m\n\u001b[1;31mSyntaxError\u001b[0m\u001b[1;31m:\u001b[0m invalid syntax\n"
     ]
    }
   ],
   "source": [
    "\n",
    "# Exercises\n",
    "\n",
    "Follow the instructions to recreate the plots using this data:\n",
    "\n",
    "## Data\n",
    "\n",
    "import numpy as np\n",
    "x = np.arange(0,100)\n",
    "y = x*2\n",
    "z = x**2\n",
    "\n",
    "import matplotlib.pyplot as plt\n",
    "%matplotlib inline\n",
    "plt.figure()"
   ]
  },
  {
   "cell_type": "markdown",
   "id": "7102b638",
   "metadata": {},
   "source": [
    "## Exercise 1\n",
    "\n",
    "** Follow along with these steps: **\n",
    "* ** Create a figure object called fig using plt.figure() **\n",
    "* ** Use add_axes to add an axis to the figure canvas at [0,0,1,1]. Call this new axis ax. **\n",
    "* ** Plot (x,y) on that axes and set the labels and titles to match the plot below:**\n"
   ]
  },
  {
   "cell_type": "code",
   "execution_count": 117,
   "id": "f234c872",
   "metadata": {},
   "outputs": [
    {
     "data": {
      "text/plain": [
       "Text(0.5, 1.0, 'Linear')"
      ]
     },
     "execution_count": 117,
     "metadata": {},
     "output_type": "execute_result"
    },
    {
     "data": {
      "image/png": "[encoded data removed]",
      "text/plain": [
       "<Figure size 640x480 with 1 Axes>"
      ]
     },
     "metadata": {},
     "output_type": "display_data"
    }
   ],
   "source": [
    "import matplotlib.pyplot as plt\n",
    "%matplotlib inline\n",
    "fig = plt.figure()\n",
    "ax = fig.add_axes([0,0,1,1])\n",
    "x = [1,2,3]\n",
    "y = [4,5,6]\n",
    "ax.plot(x,y)\n",
    "ax.set_xlabel('X Label')\n",
    "ax.set_ylabel('Y Label')\n",
    "ax.set_title(\"Linear\")\n"
   ]
  },
  {
   "cell_type": "markdown",
   "id": "0d9d77d1",
   "metadata": {},
   "source": [
    "## Exercise 2\n",
    "** Create a figure object and put two axes on it, ax1 and ax2. Located at [0,0,1,1] and [0.2,0.5,.2,.2] respectively.**\n"
   ]
  },
  {
   "cell_type": "code",
   "execution_count": 118,
   "id": "42f0bb10",
   "metadata": {},
   "outputs": [
    {
     "data": {
      "text/plain": [
       "Text(0.5, 1.0, 'Linear')"
      ]
     },
     "execution_count": 118,
     "metadata": {},
     "output_type": "execute_result"
    },
    {
     "data": {
      "image/png": "[encoded data removed]",
      "text/plain": [
       "<Figure size 640x480 with 1 Axes>"
      ]
     },
     "metadata": {},
     "output_type": "display_data"
    }
   ],
   "source": [
    "fig = plt.figure()\n",
    "ax = fig.add_axes([0,0,1,1], [0.2,0.5,0.2,0.2])\n",
    "x = [1,2,3]\n",
    "y = [4,5,6]\n",
    "ax.plot(x,y)\n",
    "ax.set_xlabel('X Label')\n",
    "ax.set_ylabel('Y Label')\n",
    "ax.set_title(\"Linear\")"
   ]
  },
  {
   "cell_type": "code",
   "execution_count": null,
   "id": "f01b718d",
   "metadata": {},
   "outputs": [],
   "source": []
  },
  {
   "cell_type": "code",
   "execution_count": null,
   "id": "089b1f96",
   "metadata": {},
   "outputs": [],
   "source": []
  }
 ],
 "metadata": {
  "kernelspec": {
   "display_name": "Python 3 (ipykernel)",
   "language": "python",
   "name": "python3"
  },
  "language_info": {
   "codemirror_mode": {
    "name": "ipython",
    "version": 3
   },
   "file_extension": ".py",
   "mimetype": "text/x-python",
   "name": "python",
   "nbconvert_exporter": "python",
   "pygments_lexer": "ipython3",
   "version": "3.10.9"
  }
 },
 "nbformat": 4,
 "nbformat_minor": 5
}
