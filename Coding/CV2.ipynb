{
 "cells": [
  {
   "cell_type": "code",
   "execution_count": 4,
   "id": "9fbdd748",
   "metadata": {},
   "outputs": [
    {
     "data": {
      "text/plain": [
       "array([[[246, 246, 246],\n",
       "        [255, 255, 255],\n",
       "        [254, 254, 254],\n",
       "        ...,\n",
       "        [255, 255, 255],\n",
       "        [255, 255, 255],\n",
       "        [255, 255, 255]],\n",
       "\n",
       "       [[255, 255, 255],\n",
       "        [252, 252, 252],\n",
       "        [255, 255, 255],\n",
       "        ...,\n",
       "        [254, 254, 254],\n",
       "        [252, 252, 252],\n",
       "        [255, 255, 255]],\n",
       "\n",
       "       [[249, 249, 249],\n",
       "        [243, 243, 243],\n",
       "        [255, 255, 255],\n",
       "        ...,\n",
       "        [252, 252, 252],\n",
       "        [253, 253, 253],\n",
       "        [251, 251, 251]],\n",
       "\n",
       "       ...,\n",
       "\n",
       "       [[250, 250, 250],\n",
       "        [255, 255, 255],\n",
       "        [244, 244, 244],\n",
       "        ...,\n",
       "        [194, 194, 194],\n",
       "        [243, 243, 243],\n",
       "        [255, 255, 255]],\n",
       "\n",
       "       [[248, 248, 248],\n",
       "        [254, 254, 254],\n",
       "        [255, 255, 255],\n",
       "        ...,\n",
       "        [252, 252, 252],\n",
       "        [255, 255, 255],\n",
       "        [254, 254, 254]],\n",
       "\n",
       "       [[252, 252, 252],\n",
       "        [250, 250, 250],\n",
       "        [251, 251, 251],\n",
       "        ...,\n",
       "        [255, 255, 255],\n",
       "        [252, 252, 252],\n",
       "        [248, 248, 248]]], dtype=uint8)"
      ]
     },
     "execution_count": 4,
     "metadata": {},
     "output_type": "execute_result"
    }
   ],
   "source": [
    "import  cv2 as cv\n",
    "img = cv.imread('AI.jpeg')\n",
    "img"
   ]
  },
  {
   "cell_type": "code",
   "execution_count": 5,
   "id": "b734b8e4",
   "metadata": {},
   "outputs": [
    {
     "data": {
      "text/plain": [
       "(356, 861, 3)"
      ]
     },
     "execution_count": 5,
     "metadata": {},
     "output_type": "execute_result"
    }
   ],
   "source": [
    "img.shape\n"
   ]
  },
  {
   "cell_type": "code",
   "execution_count": null,
   "id": "cd16c1d3",
   "metadata": {},
   "outputs": [],
   "source": [
    "gray.shape()"
   ]
  },
  {
   "cell_type": "code",
   "execution_count": null,
   "id": "1f4815b8",
   "metadata": {},
   "outputs": [],
   "source": [
    "cv.imshow('new img',img)\n",
    "cv.waitKey()"
   ]
  },
  {
   "cell_type": "code",
   "execution_count": null,
   "id": "dc8e2d1f",
   "metadata": {},
   "outputs": [],
   "source": [
    "gray.shape()"
   ]
  },
  {
   "cell_type": "code",
   "execution_count": null,
   "id": "8f38568b",
   "metadata": {},
   "outputs": [],
   "source": []
  }
 ],
 "metadata": {
  "kernelspec": {
   "display_name": "Python 3 (ipykernel)",
   "language": "python",
   "name": "python3"
  },
  "language_info": {
   "codemirror_mode": {
    "name": "ipython",
    "version": 3
   },
   "file_extension": ".py",
   "mimetype": "text/x-python",
   "name": "python",
   "nbconvert_exporter": "python",
   "pygments_lexer": "ipython3",
   "version": "3.10.9"
  }
 },
 "nbformat": 4,
 "nbformat_minor": 5
}
