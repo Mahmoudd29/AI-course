{
 "cells": [
  {
   "cell_type": "code",
   "execution_count": 1,
   "id": "10536dce",
   "metadata": {},
   "outputs": [
    {
     "name": "stdout",
     "output_type": "stream",
     "text": [
      "2\n",
      "4\n",
      "6\n"
     ]
    }
   ],
   "source": [
    "x= int(input())\n",
    "y= int(input())\n",
    "z= x + y\n",
    "print(z)\n"
   ]
  },
  {
   "cell_type": "code",
   "execution_count": 2,
   "id": "d93cabd1",
   "metadata": {},
   "outputs": [
    {
     "name": "stdout",
     "output_type": "stream",
     "text": [
      "10\n"
     ]
    }
   ],
   "source": [
    "a=10.5\n",
    "b=int(a)\n",
    "print(str(b))"
   ]
  },
  {
   "cell_type": "code",
   "execution_count": 3,
   "id": "2b8af9be",
   "metadata": {},
   "outputs": [
    {
     "name": "stdout",
     "output_type": "stream",
     "text": [
      "10\n",
      "10\n"
     ]
    }
   ],
   "source": [
    "a=str(input())\n",
    "b=int(a)\n",
    "print(b)"
   ]
  },
  {
   "cell_type": "code",
   "execution_count": 4,
   "id": "62bd8346",
   "metadata": {},
   "outputs": [
    {
     "name": "stdout",
     "output_type": "stream",
     "text": [
      "<class 'int'>\n"
     ]
    }
   ],
   "source": [
    "a=\"10\"\n",
    "b=int(a)\n",
    "print(type(b))"
   ]
  },
  {
   "cell_type": "code",
   "execution_count": 5,
   "id": "b0118c1e",
   "metadata": {},
   "outputs": [
    {
     "data": {
      "text/plain": [
       "'1020'"
      ]
     },
     "execution_count": 5,
     "metadata": {},
     "output_type": "execute_result"
    }
   ],
   "source": [
    "\"10\"+\"20\""
   ]
  },
  {
   "cell_type": "code",
   "execution_count": 6,
   "id": "908b57af",
   "metadata": {},
   "outputs": [
    {
     "data": {
      "text/plain": [
       "30"
      ]
     },
     "execution_count": 6,
     "metadata": {},
     "output_type": "execute_result"
    }
   ],
   "source": [
    "10+20"
   ]
  },
  {
   "cell_type": "markdown",
   "id": "1ee79774",
   "metadata": {},
   "source": [
    "2**3 "
   ]
  },
  {
   "cell_type": "code",
   "execution_count": 7,
   "id": "78c4c927",
   "metadata": {},
   "outputs": [
    {
     "data": {
      "text/plain": [
       "8"
      ]
     },
     "execution_count": 7,
     "metadata": {},
     "output_type": "execute_result"
    }
   ],
   "source": [
    "2 ** 3"
   ]
  },
  {
   "cell_type": "code",
   "execution_count": 9,
   "id": "b971e62d",
   "metadata": {},
   "outputs": [
    {
     "name": "stdout",
     "output_type": "stream",
     "text": [
      "45\n"
     ]
    }
   ],
   "source": [
    "a = 3\n",
    "b = 1 if a>=5 else 45 # iftrue    if     condition    else     if false\n",
    "print(b)"
   ]
  },
  {
   "cell_type": "code",
   "execution_count": 21,
   "id": "22eac736",
   "metadata": {
    "scrolled": true
   },
   "outputs": [
    {
     "name": "stdout",
     "output_type": "stream",
     "text": [
      "10\n",
      "False\n"
     ]
    }
   ],
   "source": [
    "x = int(input())\n",
    "if x > 10 :\n",
    "  print(\"True\")\n",
    "else:\n",
    "  print(\"False\")"
   ]
  },
  {
   "cell_type": "code",
   "execution_count": 23,
   "id": "0db16638",
   "metadata": {},
   "outputs": [
    {
     "name": "stdout",
     "output_type": "stream",
     "text": [
      "Enter number1\n",
      "odd\n"
     ]
    }
   ],
   "source": [
    "x= int(input(\"Enter number\"))\n",
    "if x % 2==0 :\n",
    "    print(\"even\")\n",
    "else:\n",
    "    print(\"odd\")"
   ]
  },
  {
   "cell_type": "code",
   "execution_count": 26,
   "id": "57c54615",
   "metadata": {},
   "outputs": [
    {
     "name": "stdout",
     "output_type": "stream",
     "text": [
      "Enter a number between 1 to 5\n",
      "3\n",
      "Three\n"
     ]
    }
   ],
   "source": [
    "x=int(input(\"Enter a number between 1 to 5\\n\"))\n",
    "if x==1:\n",
    "    print(\"One\")\n",
    "elif x==2:\n",
    "    print(\"Two\")\n",
    "elif x==3:\n",
    "    print(\"Three\")\n",
    "elif x==4:\n",
    "    print(\"Four\")\n",
    "elif x==5:\n",
    "    print(\"Five\")"
   ]
  },
  {
   "cell_type": "code",
   "execution_count": 33,
   "id": "1f1c5e37",
   "metadata": {
    "scrolled": true
   },
   "outputs": [
    {
     "name": "stdout",
     "output_type": "stream",
     "text": [
      "Enter Character s\n",
      "Constant\n"
     ]
    }
   ],
   "source": [
    "x=str(input(\"Enter Character \"))\n",
    "if x=='a' or x=='u' or x=='i' or x=='e' or x==\"o\" :\n",
    "    print(\"Vowel\")\n",
    "else:\n",
    "    print(\"Constant\")"
   ]
  },
  {
   "cell_type": "code",
   "execution_count": 34,
   "id": "eff5e522",
   "metadata": {},
   "outputs": [
    {
     "name": "stdout",
     "output_type": "stream",
     "text": [
      "Enter a number-19\n",
      "19\n"
     ]
    }
   ],
   "source": [
    "x=int(input(\"Enter a number\"))\n",
    "if x>=0:\n",
    "    print(x)\n",
    "else:\n",
    "    print(-x)\n"
   ]
  },
  {
   "cell_type": "code",
   "execution_count": 36,
   "id": "bed693c5",
   "metadata": {},
   "outputs": [
    {
     "name": "stdout",
     "output_type": "stream",
     "text": [
      "Enter a year2001\n",
      "This is not a leap year\n"
     ]
    }
   ],
   "source": [
    "x = int(input(\"Enter a year\"))\n",
    "if x % 4 == 0:\n",
    "    print(\"This is a leap year\")\n",
    "else:\n",
    "    print(\"This is not a leap year\")\n",
    "        \n"
   ]
  },
  {
   "cell_type": "code",
   "execution_count": 38,
   "id": "cc750941",
   "metadata": {},
   "outputs": [
    {
     "name": "stdout",
     "output_type": "stream",
     "text": [
      "Enter Age 1 \n",
      "2\n",
      "Enter Age 2 \n",
      "4\n",
      "Enter Age 3 \n",
      "6\n",
      "6\n",
      "2\n"
     ]
    }
   ],
   "source": [
    "x=int(input(\"Enter Age 1 \\n\"))\n",
    "y=int(input(\"Enter Age 2 \\n\"))\n",
    "z=int(input(\"Enter Age 3 \\n\"))\n",
    "if x>y and x>z:\n",
    "    print(x)\n",
    "elif y>x and y>z:\n",
    "    print(y)\n",
    "elif z>x and z>y:\n",
    "    print(z)\n",
    "if x<y and x<z:\n",
    "    print(x)\n",
    "elif y<x and y<z:\n",
    "    print(y)\n",
    "elif z<x and z<y:\n",
    "    print(z)\n",
    "        "
   ]
  },
  {
   "cell_type": "code",
   "execution_count": 40,
   "id": "eb2aaf1b",
   "metadata": {},
   "outputs": [
    {
     "name": "stdout",
     "output_type": "stream",
     "text": [
      "[1, 4, 7, 10]\n"
     ]
    }
   ],
   "source": [
    "my_list = [1, 2, 3, 4, 5, 6, 7, 8, 9, 10]\n",
    "step = 3\n",
    "\n",
    "new_list = my_list[::step]\n",
    "print(new_list)\n"
   ]
  },
  {
   "cell_type": "code",
   "execution_count": null,
   "id": "3c6678e6",
   "metadata": {},
   "outputs": [],
   "source": []
  }
 ],
 "metadata": {
  "kernelspec": {
   "display_name": "Python 3 (ipykernel)",
   "language": "python",
   "name": "python3"
  },
  "language_info": {
   "codemirror_mode": {
    "name": "ipython",
    "version": 3
   },
   "file_extension": ".py",
   "mimetype": "text/x-python",
   "name": "python",
   "nbconvert_exporter": "python",
   "pygments_lexer": "ipython3",
   "version": "3.10.9"
  }
 },
 "nbformat": 4,
 "nbformat_minor": 5
}
