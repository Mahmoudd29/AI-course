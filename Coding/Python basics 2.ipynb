{
 "cells": [
  {
   "cell_type": "code",
   "execution_count": 6,
   "id": "e6c2316a",
   "metadata": {},
   "outputs": [
    {
     "name": "stdout",
     "output_type": "stream",
     "text": [
      "1+2+3+4+5+6+7+8+9+10\n"
     ]
    }
   ],
   "source": [
    "i=1\n",
    "while i<10:\n",
    "    print(i, end=\"+\")\n",
    "    i+=1\n",
    "print(i)"
   ]
  },
  {
   "cell_type": "code",
   "execution_count": 12,
   "id": "100bf097",
   "metadata": {},
   "outputs": [
    {
     "name": "stdout",
     "output_type": "stream",
     "text": [
      "1 / 1    2 / 4    3 / 9    4 / 16    5 / 25    6 / 36    7 / 49    8 / 64    9 / 81    10 / 100    "
     ]
    }
   ],
   "source": [
    "i=1\n",
    "while i<=10:\n",
    "    print(i,\"/\",i*i,end=\"    \")\n",
    "    i+=1\n"
   ]
  },
  {
   "cell_type": "code",
   "execution_count": 19,
   "id": "dee4b1a1",
   "metadata": {},
   "outputs": [
    {
     "name": "stdout",
     "output_type": "stream",
     "text": [
      "Enter a number1241\n",
      "1421"
     ]
    }
   ],
   "source": [
    "x=int(input(\"Enter a number\"))\n",
    "while x>0:\n",
    "    re=x%10\n",
    "    print(re,end=\"\")\n",
    "    x=x//10"
   ]
  },
  {
   "cell_type": "code",
   "execution_count": 24,
   "id": "b8f4acd4",
   "metadata": {},
   "outputs": [
    {
     "name": "stdout",
     "output_type": "stream",
     "text": [
      "Enter a number5423\n",
      "14\n"
     ]
    }
   ],
   "source": [
    "x=int(input(\"Enter a number\"))\n",
    "sum=0\n",
    "while x>0:\n",
    "    re=x%10\n",
    "    sum+=re\n",
    "    x=x//10\n",
    "print(sum) \n",
    "    "
   ]
  },
  {
   "cell_type": "code",
   "execution_count": 42,
   "id": "1c24c507",
   "metadata": {},
   "outputs": [
    {
     "name": "stdout",
     "output_type": "stream",
     "text": [
      "Enter a number153\n",
      "Armstrong\n"
     ]
    }
   ],
   "source": [
    "x=int(input(\"Enter a number\"))\n",
    "sum=0\n",
    "n=x\n",
    "c=0\n",
    "f=n\n",
    "while x>0:\n",
    "    re=x%10\n",
    "    x=x//10\n",
    "    c=c+1\n",
    "while f>0:\n",
    "    re=f%10\n",
    "    sum+=(re**c)\n",
    "    f=f//10\n",
    "if sum==n:\n",
    "    print(\"Armstrong\")\n",
    "else:\n",
    "    print(\"not\")"
   ]
  },
  {
   "cell_type": "code",
   "execution_count": 48,
   "id": "6b4a70a1",
   "metadata": {},
   "outputs": [
    {
     "name": "stdout",
     "output_type": "stream",
     "text": [
      "[10, 200, 40, 39]\n",
      "40\n",
      "<class 'list'>\n",
      "dbc\n"
     ]
    }
   ],
   "source": [
    "l=[10,200,40,39]\n",
    "print(l)\n",
    "print(l[-2])\n",
    "print(type(l))\n",
    "\n",
    "s=\"abc\"\n",
    "s=\"d\"+s[1:]\n",
    "print(s)"
   ]
  },
  {
   "cell_type": "code",
   "execution_count": 76,
   "id": "f5e9ce28",
   "metadata": {},
   "outputs": [
    {
     "name": "stdout",
     "output_type": "stream",
     "text": [
      "[1, 2, 3, 4]\n",
      "[4, 5, 4, 7]\n",
      "[5, 4, 3]\n",
      "[3, 3, 4, 5, 6, 67, 7, 4, 5, 4, 3, 2, 1]\n",
      "13\n",
      "[1, 2, 3, 4, 5, 4, 7, 67, 6, 5, 4, 3, 3, 87]\n",
      "[1, 2, 55, 3, 4, 5, 4, 7, 67, 6, 5, 4, 3, 3, 87]\n",
      "[87, 3, 3, 4, 5, 6, 67, 7, 4, 5, 4, 3, 55, 2, 1]\n",
      "3\n"
     ]
    }
   ],
   "source": [
    "n=[1,2,3,4,5,4,7,67,6,5,4,3,3]   #List\n",
    "print(n[0:4])\n",
    "print(n[3:7])\n",
    "print(n[-4:-1])\n",
    "print(n[::-1])\n",
    "print(len(n))\n",
    "#print(sum(n))\n",
    "n.append(87)\n",
    "print(n)\n",
    "n.insert(2,55)\n",
    "print(n)\n",
    "n.reverse()#or list(reversed(n)) to take a copy of the list and dont change the original one\n",
    "print(n)\n",
    "print(n.count(3))\n",
    "n.sort()\n"
   ]
  },
  {
   "cell_type": "code",
   "execution_count": 77,
   "id": "b9be4790",
   "metadata": {},
   "outputs": [
    {
     "name": "stdout",
     "output_type": "stream",
     "text": [
      "A\n",
      "B\n",
      "5\n",
      "c\n"
     ]
    }
   ],
   "source": [
    "l=[\"A\",\"B\", 5, \"c\"]\n",
    "\n",
    "for y in l:\n",
    "    print(y)"
   ]
  },
  {
   "cell_type": "code",
   "execution_count": 78,
   "id": "b36e6b0a",
   "metadata": {},
   "outputs": [
    {
     "name": "stdout",
     "output_type": "stream",
     "text": [
      "0\n",
      "1\n",
      "2\n",
      "3\n",
      "4\n"
     ]
    }
   ],
   "source": [
    "for i in range(5):\n",
    "    print(i)"
   ]
  },
  {
   "cell_type": "code",
   "execution_count": 79,
   "id": "e1597f8f",
   "metadata": {},
   "outputs": [
    {
     "name": "stdout",
     "output_type": "stream",
     "text": [
      "0\n",
      "1\n",
      "2\n",
      "3\n"
     ]
    }
   ],
   "source": [
    "s=\"abcd\"\n",
    "for i in range(len(s)):\n",
    "    print(i)"
   ]
  },
  {
   "cell_type": "code",
   "execution_count": 80,
   "id": "b7110cf6",
   "metadata": {},
   "outputs": [
    {
     "name": "stdout",
     "output_type": "stream",
     "text": [
      "3.141592653589793\n"
     ]
    }
   ],
   "source": [
    "import math\n",
    "print(math.pi)"
   ]
  },
  {
   "cell_type": "code",
   "execution_count": 81,
   "id": "4fcab24a",
   "metadata": {},
   "outputs": [
    {
     "name": "stdout",
     "output_type": "stream",
     "text": [
      "[1. 2. 3.]\n"
     ]
    }
   ],
   "source": [
    "import numpy as np\n",
    "arr= np.array([1,2,3],dtype=\"f4\")\n",
    "print(arr)"
   ]
  },
  {
   "cell_type": "code",
   "execution_count": null,
   "id": "3c39306b",
   "metadata": {},
   "outputs": [],
   "source": []
  }
 ],
 "metadata": {
  "kernelspec": {
   "display_name": "Python 3 (ipykernel)",
   "language": "python",
   "name": "python3"
  },
  "language_info": {
   "codemirror_mode": {
    "name": "ipython",
    "version": 3
   },
   "file_extension": ".py",
   "mimetype": "text/x-python",
   "name": "python",
   "nbconvert_exporter": "python",
   "pygments_lexer": "ipython3",
   "version": "3.10.9"
  }
 },
 "nbformat": 4,
 "nbformat_minor": 5
}
