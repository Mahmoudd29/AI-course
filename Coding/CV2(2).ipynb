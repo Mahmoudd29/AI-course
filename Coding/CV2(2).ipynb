{
 "cells": [
  {
   "cell_type": "code",
   "execution_count": 1,
   "id": "fcdd6eb2",
   "metadata": {},
   "outputs": [
    {
     "data": {
      "text/plain": [
       "array([[[246, 246, 246],\n",
       "        [255, 255, 255],\n",
       "        [254, 254, 254],\n",
       "        ...,\n",
       "        [255, 255, 255],\n",
       "        [255, 255, 255],\n",
       "        [255, 255, 255]],\n",
       "\n",
       "       [[255, 255, 255],\n",
       "        [252, 252, 252],\n",
       "        [255, 255, 255],\n",
       "        ...,\n",
       "        [254, 254, 254],\n",
       "        [252, 252, 252],\n",
       "        [255, 255, 255]],\n",
       "\n",
       "       [[249, 249, 249],\n",
       "        [243, 243, 243],\n",
       "        [255, 255, 255],\n",
       "        ...,\n",
       "        [252, 252, 252],\n",
       "        [253, 253, 253],\n",
       "        [251, 251, 251]],\n",
       "\n",
       "       ...,\n",
       "\n",
       "       [[250, 250, 250],\n",
       "        [255, 255, 255],\n",
       "        [244, 244, 244],\n",
       "        ...,\n",
       "        [194, 194, 194],\n",
       "        [243, 243, 243],\n",
       "        [255, 255, 255]],\n",
       "\n",
       "       [[248, 248, 248],\n",
       "        [254, 254, 254],\n",
       "        [255, 255, 255],\n",
       "        ...,\n",
       "        [252, 252, 252],\n",
       "        [255, 255, 255],\n",
       "        [254, 254, 254]],\n",
       "\n",
       "       [[252, 252, 252],\n",
       "        [250, 250, 250],\n",
       "        [251, 251, 251],\n",
       "        ...,\n",
       "        [255, 255, 255],\n",
       "        [252, 252, 252],\n",
       "        [248, 248, 248]]], dtype=uint8)"
      ]
     },
     "execution_count": 1,
     "metadata": {},
     "output_type": "execute_result"
    }
   ],
   "source": [
    "import  cv2 as cv\n",
    "img = cv.imread('AI.jpeg')\n",
    "img"
   ]
  },
  {
   "cell_type": "code",
   "execution_count": 4,
   "id": "cf880a79",
   "metadata": {},
   "outputs": [
    {
     "data": {
      "text/plain": [
       "-1"
      ]
     },
     "execution_count": 4,
     "metadata": {},
     "output_type": "execute_result"
    }
   ],
   "source": [
    "gray = cv.cvtColor(img,cv.COLOR_BGR2GRAY)\n",
    "cv.imshow('Gray', gray)\n",
    "cv.waitKey()"
   ]
  },
  {
   "cell_type": "code",
   "execution_count": 16,
   "id": "ec98e58e",
   "metadata": {},
   "outputs": [
    {
     "data": {
      "text/plain": [
       "-1"
      ]
     },
     "execution_count": 16,
     "metadata": {},
     "output_type": "execute_result"
    }
   ],
   "source": [
    "blur = cv.GaussianBlur(img,(3,3), cv.BORDER_DEFAULT)\n",
    "cv.imshow('Blur', blur)\n",
    "cv.waitKey(0)"
   ]
  },
  {
   "cell_type": "code",
   "execution_count": 17,
   "id": "7dbd1406",
   "metadata": {},
   "outputs": [
    {
     "data": {
      "text/plain": [
       "-1"
      ]
     },
     "execution_count": 17,
     "metadata": {},
     "output_type": "execute_result"
    }
   ],
   "source": [
    "canny = cv.Canny(blur, 125, 175)\n",
    "cv.imshow('Canny Image', canny)\n",
    "cv.waitKey(0)"
   ]
  },
  {
   "cell_type": "code",
   "execution_count": 18,
   "id": "bd708f4a",
   "metadata": {},
   "outputs": [
    {
     "data": {
      "text/plain": [
       "-1"
      ]
     },
     "execution_count": 18,
     "metadata": {},
     "output_type": "execute_result"
    }
   ],
   "source": [
    "dilated = cv.dilate(canny, (7,7), iterations=3)\n",
    "cv.imshow('Dilated', dilated)\n",
    "cv.waitKey(0)"
   ]
  },
  {
   "cell_type": "code",
   "execution_count": null,
   "id": "ac1bca1c",
   "metadata": {},
   "outputs": [],
   "source": [
    "resized = cv.resize(img, (1000,500), interpolation=cv.INTER_CUBIC)\n"
   ]
  }
 ],
 "metadata": {
  "kernelspec": {
   "display_name": "Python 3 (ipykernel)",
   "language": "python",
   "name": "python3"
  },
  "language_info": {
   "codemirror_mode": {
    "name": "ipython",
    "version": 3
   },
   "file_extension": ".py",
   "mimetype": "text/x-python",
   "name": "python",
   "nbconvert_exporter": "python",
   "pygments_lexer": "ipython3",
   "version": "3.10.9"
  }
 },
 "nbformat": 4,
 "nbformat_minor": 5
}
